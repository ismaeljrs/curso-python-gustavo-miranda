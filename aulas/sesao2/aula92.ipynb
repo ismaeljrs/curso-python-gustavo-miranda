{
 "cells": [
  {
   "cell_type": "code",
   "execution_count": 13,
   "metadata": {},
   "outputs": [
    {
     "name": "stdout",
     "output_type": "stream",
     "text": [
      "000\n",
      "continuar\n"
     ]
    }
   ],
   "source": [
    "\n",
    "try:\n",
    "    a = 18\n",
    "    #b = 0 \n",
    "    print(b[0])\n",
    "    c = a / b\n",
    "except ZeroDivisionError:\n",
    "    print('dividiu por zero.')\n",
    "except TypeError:\n",
    "    print('000')\n",
    "print('continuar')\n"
   ]
  },
  {
   "cell_type": "code",
   "execution_count": 15,
   "metadata": {},
   "outputs": [],
   "source": [
    "#ee bom pra saber qual erro que ocorreu"
   ]
  },
  {
   "cell_type": "code",
   "execution_count": null,
   "metadata": {},
   "outputs": [],
   "source": [
    "try:\n",
    "    idade = int(input('Digite a sua idade: '))\n",
    "except:\n",
    "    ..."
   ]
  },
  {
   "cell_type": "code",
   "execution_count": null,
   "metadata": {},
   "outputs": [],
   "source": []
  }
 ],
 "metadata": {
  "kernelspec": {
   "display_name": "Python 3",
   "language": "python",
   "name": "python3"
  },
  "language_info": {
   "codemirror_mode": {
    "name": "ipython",
    "version": 3
   },
   "file_extension": ".py",
   "mimetype": "text/x-python",
   "name": "python",
   "nbconvert_exporter": "python",
   "pygments_lexer": "ipython3",
   "version": "3.13.0"
  }
 },
 "nbformat": 4,
 "nbformat_minor": 2
}
