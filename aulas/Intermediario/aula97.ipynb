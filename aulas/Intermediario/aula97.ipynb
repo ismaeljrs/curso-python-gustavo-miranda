{
 "cells": [
  {
   "cell_type": "code",
   "execution_count": 1,
   "metadata": {},
   "outputs": [
    {
     "name": "stdout",
     "output_type": "stream",
     "text": [
      "Este modulo se chama __main__\n"
     ]
    }
   ],
   "source": [
    "print('Este modulo se chama', __name__)"
   ]
  },
  {
   "cell_type": "code",
   "execution_count": 6,
   "metadata": {},
   "outputs": [
    {
     "name": "stdout",
     "output_type": "stream",
     "text": [
      "Este módulo se chama  __main__\n",
      "c:\\Users\\ismae\\AppData\\Local\\Programs\\Python\\Python313\\python313.zip\n",
      "c:\\Users\\ismae\\AppData\\Local\\Programs\\Python\\Python313\\DLLs\n",
      "c:\\Users\\ismae\\AppData\\Local\\Programs\\Python\\Python313\\Lib\n",
      "c:\\Users\\ismae\\AppData\\Local\\Programs\\Python\\Python313\n",
      "\n",
      "C:\\Users\\ismae\\AppData\\Roaming\\Python\\Python313\\site-packages\n",
      "C:\\Users\\ismae\\AppData\\Roaming\\Python\\Python313\\site-packages\\win32\n",
      "C:\\Users\\ismae\\AppData\\Roaming\\Python\\Python313\\site-packages\\win32\\lib\n",
      "C:\\Users\\ismae\\AppData\\Roaming\\Python\\Python313\\site-packages\\Pythonwin\n",
      "c:\\Users\\ismae\\AppData\\Local\\Programs\\Python\\Python313\\Lib\\site-packages\n"
     ]
    }
   ],
   "source": [
    "import sys \n",
    "import aula97_m\n",
    "\n",
    "print('Este módulo se chama ',__name__)\n",
    "print(*sys.path, sep='\\n')"
   ]
  },
  {
   "cell_type": "code",
   "execution_count": 9,
   "metadata": {},
   "outputs": [
    {
     "name": "stdout",
     "output_type": "stream",
     "text": [
      "Este módulo se chama  __main__\n"
     ]
    }
   ],
   "source": [
    "# como importar coisas dentro do main\n",
    "\n",
    "import aula97_m\n",
    "# from aula97_m import soma,variavel_modulo\n",
    "\n",
    "print('Este módulo se chama ',__name__)\n",
    "# print(*sys.path, sep='\\n')\n"
   ]
  },
  {
   "cell_type": "code",
   "execution_count": null,
   "metadata": {},
   "outputs": [],
   "source": []
  },
  {
   "cell_type": "code",
   "execution_count": null,
   "metadata": {},
   "outputs": [],
   "source": []
  },
  {
   "cell_type": "code",
   "execution_count": null,
   "metadata": {},
   "outputs": [],
   "source": []
  },
  {
   "cell_type": "code",
   "execution_count": null,
   "metadata": {},
   "outputs": [],
   "source": []
  }
 ],
 "metadata": {
  "kernelspec": {
   "display_name": "Python 3",
   "language": "python",
   "name": "python3"
  },
  "language_info": {
   "codemirror_mode": {
    "name": "ipython",
    "version": 3
   },
   "file_extension": ".py",
   "mimetype": "text/x-python",
   "name": "python",
   "nbconvert_exporter": "python",
   "pygments_lexer": "ipython3",
   "version": "3.13.0"
  }
 },
 "nbformat": 4,
 "nbformat_minor": 2
}
